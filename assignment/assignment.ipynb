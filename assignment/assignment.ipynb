{
  "cells": [
    {
      "cell_type": "markdown",
      "id": "e0c7b14a-e5aa-4abc-b48b-b8a9d20dacac",
      "metadata": {
        "id": "e0c7b14a-e5aa-4abc-b48b-b8a9d20dacac"
      },
      "source": [
        "# Assignment: Linear Models\n",
        "## Do three questions."
      ]
    },
    {
      "cell_type": "code",
      "source": [
        "# ! git clone https://github.com/ds4e/linearModels"
      ],
      "metadata": {
        "colab": {
          "base_uri": "https://localhost:8080/"
        },
        "id": "qyTFZy1Ur-mA",
        "outputId": "5036e317-4a2e-4efb-c00c-d70e7804d78f"
      },
      "id": "qyTFZy1Ur-mA",
      "execution_count": 4,
      "outputs": [
        {
          "output_type": "stream",
          "name": "stdout",
          "text": [
            "/content/linearModels/data\n",
            "airbnb_hw.csv  heart_failure\t  Q1_clean.csv\t\t wages_hw.csv\n",
            "cars_hw.csv    pretrial_data.csv  USA_cars_datasets.csv\n"
          ]
        }
      ]
    },
    {
      "cell_type": "markdown",
      "id": "bf4826b0",
      "metadata": {
        "id": "bf4826b0"
      },
      "source": [
        "**Q1.** Please answer the following questions in your own words.\n",
        "\n",
        "1. What makes a model \"linear\"? \"Linear\" in what?\n",
        "\n",
        "Linear models have linear parameters through coefficients, in which they add weight to the prediction model.\n",
        "\n",
        "2. How do you interpret the coefficient for a dummy/one-hot-encoded variable? (This is a trick question, and the trick involves how you handle the intercept of the model.)\n",
        "\n",
        "I guess I'll still answer the trick question, you have to account for the dummy var by omiting.\n",
        "\n",
        "3. Can linear regression be used for classification? Explain why, or why not.\n",
        "\n",
        "Yeah technically, although you shouldn't because linear reg doesnt restrict predictions which can lead to inaccuracy.\n",
        "\n",
        "4. What are signs that your linear model is over-fitting?\n",
        "\n",
        "A low error on the training set and a poor performance, usually anything that signifies a difference between training and test errors. Abnormal coefficients, also even having too many predictors can make things hazy.\n",
        "\n",
        "5. Clearly explain multi-colinearity using the two-stage least squares technique.\n",
        "\n",
        "The extra variables you use to predict your problematic variable are too similar or highly correlated. When this happens, they don’t provide unique information to accurately predict the variable in the first step. Without a strong first-stage prediction, the final estimates in the second stage become unreliable. In a two-stage least squares, the first stage regresses an endogenous predictor on a set of instruments.\n",
        "\n",
        "6. How can you incorporate nonlinear relationships between your target/response/dependent/outcome variable $y$ and your features/control/response/independent variables $x$ into your analysis?\n",
        "\n",
        "You add two polynomial or interaction terms, apply transormations to the predictors like logs or square roots, and then use basis expansions to have the relationship bend at certain points.\n",
        "\n",
        "7. What is the interpretation of the intercept? A slope coefficient for a variable? The coefficient for a dummy/one-hot-encoded variable?\n",
        "\n",
        "**Intercept**: The baseline predicted value when all predictors equal zero.\n",
        "\n",
        "**Slope coefficient**: The change in the outcome for a one-unit increase\n",
        "in the predictor, holding other variables constant.\n",
        "\n",
        "**Dummy coefficient**: The difference in the outcome between the group with the dummy equal to 1 and the baseline group (dummy = 0)."
      ]
    },
    {
      "cell_type": "markdown",
      "id": "25bf83c6-ff44-42d6-9b33-8be1b945860d",
      "metadata": {
        "id": "25bf83c6-ff44-42d6-9b33-8be1b945860d"
      },
      "source": [
        "**Q2.** Load `./data/Q1_clean.csv`. The data include\n",
        "\n",
        "- `Price` per night\n",
        "- `Review Scores Rating`: The average rating for the property\n",
        "- `Neighbourhood `: The bourough of NYC. Note the space, or rename the variable.\n",
        "- `Property Type`: The kind of dwelling\n",
        "- `Room Type`: The kind of space being rented\n",
        "\n",
        "1. Compute the average prices and scores by `Neighbourhood `; which bourough is the most expensive on average? Create a kernel density plot of price and log price, grouping by `Neighbourhood `.\n"
      ]
    },
    {
      "cell_type": "markdown",
      "source": [
        "2. Regress price on `Neighbourhood ` by creating the appropriate dummy/one-hot-encoded variables, without an intercept in the linear model and using all the data. Compare the coefficients in the regression to the table from part 1. What pattern do you see? What are the coefficients in a regression of a continuous variable on one categorical variable?\n"
      ],
      "metadata": {
        "id": "rpAwVKjXxRDf"
      },
      "id": "rpAwVKjXxRDf"
    },
    {
      "cell_type": "markdown",
      "source": [
        "3. Repeat part 2, but leave an intercept in the linear model. How do you have to handle the creation of the dummies differently? What is the intercept? Interpret the coefficients. How can I get the coefficients in part 2 from these new coefficients?\n"
      ],
      "metadata": {
        "id": "cgWNQXrixTQK"
      },
      "id": "cgWNQXrixTQK"
    },
    {
      "cell_type": "markdown",
      "source": [
        "4. Split the sample 80/20 into a training and a test set. Run a regression of `Price` on `Review Scores Rating` and `Neighbourhood `. What is the $R^2$ and RMSE on the test set? What is the coefficient on `Review Scores Rating`? What is the most expensive kind of property you can rent?\n"
      ],
      "metadata": {
        "id": "nH88T-72xUze"
      },
      "id": "nH88T-72xUze"
    },
    {
      "cell_type": "markdown",
      "source": [
        "5. Split the sample 80/20 into a training and a test set. Run a regression of `Price` on `Review Scores Rating` and `Neighbourhood ` and `Property Type`. What is the $R^2$ and RMSE on the test set? What is the coefficient on `Review Scores Rating`? What is the most expensive kind of property you can rent?\n"
      ],
      "metadata": {
        "id": "c2BWrJlKxWX2"
      },
      "id": "c2BWrJlKxWX2"
    },
    {
      "cell_type": "markdown",
      "source": [
        "6. What does the coefficient on `Review Scores Rating` mean if it changes from part 4 to 5? Hint: Think about how multilple linear regression works.\n"
      ],
      "metadata": {
        "id": "CIIkBMhXxYnK"
      },
      "id": "CIIkBMhXxYnK"
    },
    {
      "cell_type": "markdown",
      "source": [
        "7. (Optional) We've included `Neighborhood ` and `Property Type` separately in the model. How do you interact them, so you can have \"A bedroom in Queens\" or \"A townhouse in Manhattan\". Split the sample 80/20 into a training and a test set and run a regression including that kind of \"property type X neighborhood\" dummy, plus `Review Scores Rating`. How does the slope coefficient for `Review Scores Rating`, the $R^2$, and the RMSE change? Do they increase significantly compares to part 5? Are the coefficients in this regression just the sum of the coefficients for `Neighbourhood ` and `Property Type` from 5? What is the most expensive kind of property you can rent?"
      ],
      "metadata": {
        "id": "7ATbijk2xaXt"
      },
      "id": "7ATbijk2xaXt"
    },
    {
      "cell_type": "markdown",
      "id": "95f22300-0180-4ed2-be8f-ed56cf4cd36b",
      "metadata": {
        "id": "95f22300-0180-4ed2-be8f-ed56cf4cd36b"
      },
      "source": [
        "**Q3.** This question is a case study for linear models. The data are about car prices. In particular, they include:\n",
        "\n",
        "  - `Price`, `Color`, `Seating_Capacity`\n",
        "  - `Body_Type`: crossover, hatchback, muv, sedan, suv\n",
        "  - `Make`, `Make_Year`: The brand of car and year produced\n",
        "  - `Mileage_Run`: The number of miles on the odometer\n",
        "  - `Fuel_Type`: Diesel or gasoline/petrol\n",
        "  - `Transmission`, `Transmission_Type`:  speeds and automatic/manual\n",
        "\n",
        "  1. Load `cars_hw.csv`. These data were really dirty, and I've already cleaned them a significant amount in terms of missing values and other issues, but some issues remain (e.g. outliers, badly scaled variables that require a log or arcsinh transformation). Clean the data however you think is most appropriate.\n"
      ]
    },
    {
      "cell_type": "markdown",
      "source": [
        "  2. Summarize the `Price` variable and create a kernel density plot. Use `.groupby()` and `.describe()` to summarize prices by brand (`Make`). Make a grouped kernel density plot by `Make`. Which car brands are the most expensive? What do prices look like in general?\n"
      ],
      "metadata": {
        "id": "vFcIF6Xfxe9V"
      },
      "id": "vFcIF6Xfxe9V"
    },
    {
      "cell_type": "markdown",
      "source": [
        "  3. Split the data into an 80% training set and a 20% testing set.\n"
      ],
      "metadata": {
        "id": "na8NW-H4xgRX"
      },
      "id": "na8NW-H4xgRX"
    },
    {
      "cell_type": "markdown",
      "source": [
        "  4. Make a model where you regress price on the numeric variables alone; what is the $R^2$ and `RMSE` on the training set and test set? Make a second model where, for the categorical variables, you regress price on a model comprised of one-hot encoded regressors/features alone (you can use `pd.get_dummies()`; be careful of the dummy variable trap); what is the $R^2$ and `RMSE` on the test set? Which model performs better on the test set? Make a third model that combines all the regressors from the previous two; what is the $R^2$ and `RMSE` on the test set? Does the joint model perform better or worse, and by home much?\n"
      ],
      "metadata": {
        "id": "omNRMVtHxhqL"
      },
      "id": "omNRMVtHxhqL"
    },
    {
      "cell_type": "markdown",
      "source": [
        "  5. Use the `PolynomialFeatures` function from `sklearn` to expand the set of numerical variables you're using in the regression. As you increase the degree of the expansion, how do the $R^2$ and `RMSE` change? At what point does $R^2$ go negative on the test set? For your best model with expanded features, what is the $R^2$ and `RMSE`? How does it compare to your best model from part 4?\n"
      ],
      "metadata": {
        "id": "jbSuoEpUxjOR"
      },
      "id": "jbSuoEpUxjOR"
    },
    {
      "cell_type": "markdown",
      "source": [
        "  6. For your best model so far, determine the predicted values for the test data and plot them against the true values. Do the predicted values and true values roughly line up along the diagonal, or not? Compute the residuals/errors for the test data and create a kernel density plot. Do the residuals look roughly bell-shaped around zero? Evaluate the strengths and weaknesses of your model."
      ],
      "metadata": {
        "id": "YO99cq8Xxkds"
      },
      "id": "YO99cq8Xxkds"
    }
  ],
  "metadata": {
    "colab": {
      "provenance": []
    },
    "kernelspec": {
      "display_name": "Python 3 (ipykernel)",
      "language": "python",
      "name": "python3"
    },
    "language_info": {
      "codemirror_mode": {
        "name": "ipython",
        "version": 3
      },
      "file_extension": ".py",
      "mimetype": "text/x-python",
      "name": "python",
      "nbconvert_exporter": "python",
      "pygments_lexer": "ipython3",
      "version": "3.12.2"
    }
  },
  "nbformat": 4,
  "nbformat_minor": 5
}