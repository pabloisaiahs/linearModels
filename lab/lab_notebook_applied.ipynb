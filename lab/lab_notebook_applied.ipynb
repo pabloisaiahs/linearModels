{
  "cells": [
    {
      "cell_type": "markdown",
      "metadata": {
        "vscode": {
          "languageId": "bat"
        },
        "id": "al-LlzEcB1_A"
      },
      "source": [
        "# Hedonic Pricing\n",
        "\n",
        "We often try to predict the price of an asset from its observable characteristics. This is generally called **hedonic pricing**: How do the unit's characteristics determine its market price?\n",
        "\n",
        "In the lab folder, there are three options: housing prices in pierce_county_house_sales.csv, car prices in cars_hw.csv, and airbnb rental prices in airbnb_hw.csv. If you know of another suitable dataset, please feel free to use that one.\n",
        "\n",
        "1. Clean the data and perform some EDA and visualization to get to know the data set.\n"
      ]
    },
    {
      "cell_type": "markdown",
      "source": [
        "2. Transform your variables --- particularly categorical ones --- for use in your regression analysis.\n"
      ],
      "metadata": {
        "id": "vgi9fNk_HVtG"
      }
    },
    {
      "cell_type": "markdown",
      "source": [
        "3. Implement an ~80/~20 train-test split. Put the test data aside.\n"
      ],
      "metadata": {
        "id": "6JrVOGgXHXTi"
      }
    },
    {
      "cell_type": "markdown",
      "source": [
        "4. Build some simple linear models that include no transformations or interactions. Fit them, and determine their RMSE and $R^2$ on the both the training and test sets. Which of your models does the best?\n"
      ],
      "metadata": {
        "id": "GQz-JCcRHbA4"
      }
    },
    {
      "cell_type": "markdown",
      "source": [
        "5. Make partial correlation plots for each of the numeric variables in your model. Do you notice any significant non-linearities?\n"
      ],
      "metadata": {
        "id": "URRqEYfPHceZ"
      }
    },
    {
      "cell_type": "markdown",
      "source": [
        "6. Include transformations and interactions of your variables, and build a more complex model that reflects your ideas about how the features of the asset determine its value. Determine its RMSE and $R^2$ on the training and test sets. How does the more complex model your build compare to the simpler ones?\n"
      ],
      "metadata": {
        "id": "-ITNj2DeHd8f"
      }
    },
    {
      "cell_type": "markdown",
      "source": [
        "7. Summarize your results from 1 to 6. Have you learned anything about overfitting and underfitting, or model selection?\n"
      ],
      "metadata": {
        "id": "WinBQfMbHfR_"
      }
    },
    {
      "cell_type": "markdown",
      "source": [
        "8. If you have time, use the sklearn.linear_model.Lasso to regularize your model and select the most predictive features. Which does it select? What are the RMSE and $R^2$? We'll cover the Lasso later in detail in class."
      ],
      "metadata": {
        "id": "zNZ9cNBaHgJW"
      }
    }
  ],
  "metadata": {
    "kernelspec": {
      "display_name": "base",
      "language": "python",
      "name": "python3"
    },
    "language_info": {
      "codemirror_mode": {
        "name": "ipython",
        "version": 3
      },
      "file_extension": ".py",
      "mimetype": "text/x-python",
      "name": "python",
      "nbconvert_exporter": "python",
      "pygments_lexer": "ipython3",
      "version": "3.12.2"
    },
    "colab": {
      "provenance": []
    }
  },
  "nbformat": 4,
  "nbformat_minor": 0
}